{
 "cells": [
  {
   "cell_type": "code",
   "execution_count": 1,
   "metadata": {},
   "outputs": [],
   "source": [
    "import pandas as pd\n",
    "\n",
    "from src import queries_creacion_bbd_tablas as query\n",
    "from src import bbdd_soporte as bss\n"
   ]
  },
  {
   "cell_type": "code",
   "execution_count": 2,
   "metadata": {},
   "outputs": [],
   "source": [
    "# Cargar el csv que creamos en la lección de ayer \n",
    "clientes = pd.read_csv(\"files/clientes_limpio.csv\", index_col = 0)\n",
    "productos = pd.read_csv(\"files/productos_limpio.csv\", index_col = 0)\n",
    "ventas = pd.read_csv(\"files/ventas_limpio.csv\", index_col = 0)"
   ]
  },
  {
   "cell_type": "code",
   "execution_count": 3,
   "metadata": {},
   "outputs": [
    {
     "name": "stdout",
     "output_type": "stream",
     "text": [
      "CMySQLCursor: CREATE SCHEMA IF NOT EXISTS `pair`;\n"
     ]
    }
   ],
   "source": [
    "#Crear la Base de Datos\n",
    "bss.creacion_bbdd_tablas(query.query_creacion_bbdd, \"3dEbUtI9\", \"pair\")"
   ]
  },
  {
   "cell_type": "code",
   "execution_count": 4,
   "metadata": {},
   "outputs": [
    {
     "name": "stdout",
     "output_type": "stream",
     "text": [
      "CMySQLCursor: \n",
      "                    CREATE TABLE IF NOT..\n",
      "CMySQLCursor: \n",
      "                        CREATE TABLE IF..\n",
      "CMySQLCursor: \n",
      "                        CREATE TABLE IF..\n"
     ]
    }
   ],
   "source": [
    "# Crear las tablas de la BBDD\n",
    "# Tabla  clientes\n",
    "bss.creacion_bbdd_tablas(query.query_tabla_clientes, \"3dEbUtI9\", 'pair' )\n",
    "# Tabla  productos\n",
    "bss.creacion_bbdd_tablas(query.query_tabla_productos, \"3dEbUtI9\", 'pair' )\n",
    "# Tabla  ventas\n",
    "bss.creacion_bbdd_tablas(query.query_tabla_ventas, \"3dEbUtI9\", 'pair' )"
   ]
  },
  {
   "cell_type": "code",
   "execution_count": 5,
   "metadata": {},
   "outputs": [
    {
     "name": "stdout",
     "output_type": "stream",
     "text": [
      "1000 registro/s insertado/s.\n"
     ]
    }
   ],
   "source": [
    "# Crear las listas de tuplas con la información a insertar en cada tabla\n",
    "\n",
    "# TABLA CLIENTES\n",
    "clientes[\"id_cliente\"] = clientes[\"id_cliente\"].astype(str)\n",
    "clientes = clientes.fillna('DESCONOCIDO')\n",
    "datos_tabla_clientes = list(set(zip(clientes[\"id_cliente\"].values, clientes[\"first_name\"].values, clientes[\"last_name\"].values, clientes[\"email\"].values, clientes[\"gender\"].values, clientes[\"city\"].values, clientes[\"address\"].values)))\n",
    "# INSERTAR EN CLIENTES\n",
    "bss.insertar_datos(query.query_insertar_clientes, \"3dEbUtI9\", \"pair\", datos_tabla_clientes)\n"
   ]
  },
  {
   "cell_type": "code",
   "execution_count": 6,
   "metadata": {},
   "outputs": [
    {
     "name": "stdout",
     "output_type": "stream",
     "text": [
      "21 registro/s insertado/s.\n"
     ]
    }
   ],
   "source": [
    "\n",
    "# TABLA PRODUCTOS\n",
    "datos_tabla_productos = list(set(zip(productos[\"id_producto\"].values,productos[\"nombre_producto\"].values,productos[\"categoria\"].values,productos[\"precio\"].values,productos[\"origen\"].values,productos[\"descripcion\"].values)))\n",
    "# INSERTAR EN PRODUCTOS\n",
    "bss.insertar_datos(query.query_insertar_productos, \"3dEbUtI9\", \"pair\", datos_tabla_productos)\n"
   ]
  },
  {
   "cell_type": "code",
   "execution_count": 7,
   "metadata": {},
   "outputs": [
    {
     "name": "stdout",
     "output_type": "stream",
     "text": [
      "100 registro/s insertado/s.\n"
     ]
    }
   ],
   "source": [
    "# TABLA VENTAS\n",
    "ventas[\"id_cliente\"] = ventas[\"id_cliente\"].astype(str)\n",
    "ventas[\"cantidad\"] = ventas[\"cantidad\"].astype(str)\n",
    "datos_tabla_ventas = list(set(zip(ventas[\"id_cliente\"].values,ventas[\"id_producto\"].values,ventas[\"fecha_venta\"].values,ventas[\"cantidad\"].values,ventas[\"total\"].values)))\n",
    "## INSERTAR EN VENTAS\n",
    "bss.insertar_datos(query.query_insertar_ventas,\"3dEbUtI9\", \"pair\", datos_tabla_ventas)\n",
    "\n"
   ]
  }
 ],
 "metadata": {
  "kernelspec": {
   "display_name": "base",
   "language": "python",
   "name": "python3"
  },
  "language_info": {
   "codemirror_mode": {
    "name": "ipython",
    "version": 3
   },
   "file_extension": ".py",
   "mimetype": "text/x-python",
   "name": "python",
   "nbconvert_exporter": "python",
   "pygments_lexer": "ipython3",
   "version": "3.11.5"
  }
 },
 "nbformat": 4,
 "nbformat_minor": 2
}
